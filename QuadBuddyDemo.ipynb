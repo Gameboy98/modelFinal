{
  "nbformat": 4,
  "nbformat_minor": 0,
  "metadata": {
    "colab": {
      "name": "QuadBuddyDemo.ipynb",
      "provenance": [],
      "collapsed_sections": []
    },
    "kernelspec": {
      "name": "python3",
      "display_name": "Python 3"
    },
    "language_info": {
      "name": "python"
    }
  },
  "cells": [
    {
      "cell_type": "code",
      "metadata": {
        "id": "srpH34Wwq87D"
      },
      "source": [
        "import numpy as np\n",
        "import matplotlib.pyplot as plt\n",
        "import pandas as pd\n",
        "import os\n",
        "import sys\n",
        "from os import listdir\n",
        "from os.path import isfile, join\n",
        "from keras.models import model_from_json\n",
        "import cv2\n",
        "import cmath"
      ],
      "execution_count": null,
      "outputs": []
    },
    {
      "cell_type": "code",
      "metadata": {
        "id": "xN6HmMyHrA2n"
      },
      "source": [
        "dict = {0:'0',1:'1',2:'2',3:'3',4:'4',5:'5',6:'6',7:'7',8:'8',9:'9',10:'-',11:'+',12:'=',13:'x'}"
      ],
      "execution_count": null,
      "outputs": []
    },
    {
      "cell_type": "code",
      "metadata": {
        "id": "6jGZoD5ZqjBt"
      },
      "source": [
        "root = os.getcwd()\n",
        "OUTPUT_DIR = '/content/Output'\n",
        "\n",
        "def line_array(x):\n",
        "\tupper, lower = [], []\n",
        "\tfor y in range(5, len(x) - 5):\n",
        "\t\ts_a, s_p = strtline(y, x)\n",
        "\t\te_a, e_p = endline(y, x)\n",
        "\t\tif s_a >= 7 and s_p >= 5:\n",
        "\t\t\tupper.append(y)\n",
        "\t\tif e_a >= 5 and e_p >= 7:\n",
        "\t\t\tlower.append(y)\n",
        "\treturn upper, lower\n",
        "\n",
        "def strtline(y, array):\n",
        "\tprev,ahead = 0,0\n",
        "\tfor i in array[y:y+10]:\n",
        "\t\tif i > 3:\n",
        "\t\t\tahead += 1\n",
        "\tfor i in array[y-10:y]:\n",
        "\t\tif i==0:\n",
        "\t\t\tprev += 1\n",
        "\treturn ahead, prev\n",
        "\n",
        "def endline(y, array):\n",
        "\tahead = 0\n",
        "\tprev = 0\n",
        "\tfor i in array[y:y+10]:\n",
        "\t\tif i==0:\n",
        "\t\t\tahead += 1\n",
        "\tfor i in array[y-10:y]:\n",
        "\t\tif i > 3:\n",
        "\t\t\tprev += 1\n",
        "\treturn ahead, prev\n",
        "\n",
        "def endline_word(y, array, a):\n",
        "\tahead = 0\n",
        "\tprev = 0\n",
        "\tfor i in array[y:y+2*a]:\n",
        "\t\tif i < 2:\n",
        "\t\t\tahead += 1\n",
        "\tfor i in array[y-a:y]:\n",
        "\t\tif i > 2:\n",
        "\t\t\tprev += 1\n",
        "\treturn prev ,ahead\n",
        "\n",
        "def end_line_array(array, a):\n",
        "\tlist_endlines = []\n",
        "\tfor y in range(len(array)):\n",
        "\t\te_p, e_a = endline_word(y, array, a)\n",
        "\t\t# print(e_p, e_a)\n",
        "\t\tif e_a >= int(1.5*a) and e_p >= int(0.7*a):\n",
        "\t\t\tlist_endlines.append(y)\n",
        "\treturn list_endlines\n",
        "\n",
        "def refine_endword(array):\n",
        "\trefine_list = []\n",
        "\tfor y in range(len(array)-1):\n",
        "\t\tif array[y]+1 < array[y+1]:\n",
        "\t\t\trefine_list.append(array[y])\n",
        "\n",
        "\tif len(array) != 0:\n",
        "\t\trefine_list.append(array[-1])\n",
        "\treturn refine_list\n",
        "\n",
        "def refine_array(array_upper, array_lower):\n",
        "\tupper, lower = [], []\n",
        "\tfor y in range(len(array_upper)-1):\n",
        "\t\tif array_upper[y] + 5 < array_upper[y+1]:\n",
        "\t\t\tupper.append(array_upper[y]-10)\n",
        "\tfor y in range(len(array_lower)-1):\n",
        "\t\tif array_lower[y] + 5 < array_lower[y+1]:\n",
        "\t\t\tlower.append(array_lower[y]+10)\n",
        "\tupper.append(array_upper[-1]-10)\n",
        "\tlower.append(array_lower[-1]+10)\n",
        "\treturn upper, lower\n",
        "\n",
        "def letter_width(contours):\n",
        "\tletter_width_sum = 0\n",
        "\tcount = 0\n",
        "\tfor cnt in contours:\n",
        "\t\tif cv2.contourArea(cnt) > 20:\n",
        "\t\t\tx,y,w,h = cv2.boundingRect(cnt)\n",
        "\t\t\tletter_width_sum += w\n",
        "\t\t\tcount += 1\n",
        "\treturn letter_width_sum/count\n",
        "\n",
        "\n",
        "def end_wrd_dtct(lines, i, bin_img, mean_lttr_width, total_width):\n",
        "\tcount_y = np.zeros(shape = total_width)\n",
        "\tfor x in range(total_width):\n",
        "\t\tfor y in range(lines[i][0],lines[i][1]):\n",
        "\t\t\tif bin_img[y][x] == 255:\n",
        "\t\t\t\tcount_y[x] += 1\n",
        "\n",
        "\tend_lines = end_line_array(count_y, int(mean_lttr_width))\n",
        "\tendlines = refine_endword(end_lines)\n",
        "\treturn endlines\n",
        "\n",
        "def get_letter_rect(k, contours):\n",
        "\tvalid = True\n",
        "\tx,y,w,h = cv2.boundingRect(contours[k])\n",
        "\tfor i in range(len(contours)):\n",
        "\t\tcnt = contours[i]\n",
        "\t\tif i == k:\n",
        "\t\t\tcontinue\n",
        "\t\telif cv2.contourArea(cnt) < 50:\n",
        "\t\t\tcontinue\n",
        "\n",
        "\t\tx1,y1,w1,h1 = cv2.boundingRect(cnt)\n",
        "\t\t\n",
        "\t\tif abs(x1 + w1/2 - (x + w/2)) < 50:\n",
        "\t\t\tif y1 > y:\n",
        "\t\t\t\th = abs(y - (y1 + h1))\n",
        "\t\t\t\tw = abs(x - (x1 + w1))\n",
        "\t\t\telse:\n",
        "\t\t\t\tvalid = False\n",
        "\t\t\tbreak\n",
        "\n",
        "\treturn (valid,x,y,w,h)\n",
        "\n",
        "def letter_seg(lines_img, x_lines, i):\n",
        "\tcopy_img = lines_img[i].copy()\n",
        "\tx_linescopy = x_lines[i].copy()\n",
        "\t\n",
        "\tletter_img = []\n",
        "\tletter_k = []\n",
        "\t\n",
        "\tcontours, hierarchy = cv2.findContours(copy_img,cv2.RETR_EXTERNAL,cv2.CHAIN_APPROX_SIMPLE)\n",
        "\tfor k in range(len(contours)):\n",
        "\t\tcnt = contours[k]\n",
        "\t\tif cv2.contourArea(cnt) < 50:\n",
        "\t\t\tcontinue\n",
        "\t\t\n",
        "\t\tvalid,x,y,w,h = get_letter_rect(k, contours)\n",
        "\t\tif valid:\n",
        "\t\t\tletter_k.append((x,y,w,h))\n",
        "\n",
        "\tletter = sorted(letter_k, key=lambda student: student[0])\n",
        "\t\n",
        "\tword = 1\n",
        "\tletter_index = 0\n",
        "\tfor e in range(len(letter)):\n",
        "\t\tif(letter[e][0]<x_linescopy[0]):\n",
        "\t\t\tletter_index += 1\n",
        "\t\t\tletter_img_tmp = lines_img[i][letter[e][1]-5:letter[e][1]+letter[e][3]+5,letter[e][0]-5:letter[e][0]+letter[e][2]+5]\n",
        "\t\t\tletter_img = letter_img_tmp#cv2.resize(letter_img_tmp, dsize =(28, 28), interpolation = cv2.INTER_AREA)\n",
        "\t\t\tcv2.imwrite(os.path.join(OUTPUT_DIR, str(letter_index)+'.png'), 255-letter_img)\n",
        "\t\telse:\n",
        "\t\t\tx_linescopy.pop(0)\n",
        "\t\t\tword += 1\n",
        "\t\t\tletter_index = 1\n",
        "\t\t\tletter_img_tmp = lines_img[i][letter[e][1]-5:letter[e][1]+letter[e][3]+5,letter[e][0]-5:letter[e][0]+letter[e][2]+5]\n",
        "\t\t\tletter_img = cv2.resize(letter_img_tmp, dsize =(28, 28), interpolation = cv2.INTER_AREA)\n",
        "\t\t\tcv2.imwrite(OUTPUT_DIR+str(letter_index)+'.png', 255-letter_img)\n",
        "\n",
        "def image_segmentation(filepath):\n",
        "\tprint(\"\\n........Program Initiated.......\\n\")\n",
        "\tsrc_img = cv2.imread(filepath, cv2.IMREAD_GRAYSCALE)\n",
        "\torig_height, orig_width = src_img.shape\n",
        "\n",
        "\tprint(\"\\n Resizing Image........\")\n",
        "\twidth = 1320\n",
        "\theight = int(width * orig_height / orig_width)\n",
        "\tsrc_img = cv2.resize(src_img, dsize=(width, height), interpolation=cv2.INTER_AREA)\n",
        "\n",
        "\tprint(\"#---------Image Info:--------#\")\n",
        "\tprint(\"\\tHeight =\", height, \"\\n\\tWidth =\", width)\n",
        "\tPIXEL_SET = 255\n",
        "\tkernel_size = 21\n",
        "\tnormalized_mean = 20\n",
        "\tbin_img = cv2.adaptiveThreshold(src_img, PIXEL_SET, cv2.ADAPTIVE_THRESH_MEAN_C, cv2.THRESH_BINARY_INV, kernel_size,\n",
        "\t\t\t\t\t\t\t\t\tnormalized_mean)\n",
        "\n",
        "\tprint(\"Noise Removal\")\n",
        "\tkernel = cv2.getStructuringElement(cv2.MORPH_ELLIPSE, (3, 3))\n",
        "\tfinal_thr = cv2.morphologyEx(bin_img, cv2.MORPH_CLOSE, kernel)\n",
        "\tcontr_retrival = final_thr.copy()\n",
        "\tprint(\"Character Segmentation\")\n",
        "\tcount_x = np.zeros(shape=(height))\n",
        "\tfor y in range(height):\n",
        "\t\tfor x in range(width):\n",
        "\t\t\tif bin_img[y][x] == PIXEL_SET:\n",
        "\t\t\t\tcount_x[y] += 1\n",
        "\n",
        "\tupper_lines, lower_lines = line_array(count_x)\n",
        "\tupperlines, lowerlines = refine_array(upper_lines, lower_lines)\n",
        "\n",
        "\tif len(upperlines) == len(lowerlines):\n",
        "\t\tlines = []\n",
        "\t\tfor y in upperlines:\n",
        "\t\t\tfinal_thr[y][:] = PIXEL_SET\n",
        "\t\tfor y in lowerlines:\n",
        "\t\t\tfinal_thr[y][:] = PIXEL_SET\n",
        "\t\tfor y in range(len(upperlines)):\n",
        "\t\t\tlines.append((upperlines[y], lowerlines[y]))\n",
        "\telse:\n",
        "\t\tprint(\"Unable to process the noisy image\")\n",
        "\t\tshowimages()\n",
        "\t\tk = cv2.waitKey(0)\n",
        "\t\twhile 1:\n",
        "\t\t\tk = cv2.waitKey(0)\n",
        "\t\t\tif k & 0xFF == ord('q'):\n",
        "\t\t\t\tcv2.destroyAllWindows()\n",
        "\t\t\t\texit()\n",
        "\n",
        "\tlines = np.array(lines)\n",
        "\tno_of_lines = len(lines)\n",
        "\tprint(\"\\nLines :\", no_of_lines)\n",
        "\n",
        "\tlines_img = []\n",
        "\tfor i in range(no_of_lines):\n",
        "\t\tlines_img.append(bin_img[lines[i][0]:lines[i][1], :])\n",
        "\n",
        "\tcontours, hierarchy = cv2.findContours(contr_retrival, cv2.RETR_EXTERNAL, cv2.CHAIN_APPROX_SIMPLE)\n",
        "\tcv2.drawContours(src_img, contours, -1, (0, 255, 0), 1)\n",
        "\n",
        "\tmean_lttr_width = letter_width(contours)\n",
        "\tprint(\"\\nAverage Width of Each Letter:- \", mean_lttr_width)\n",
        "\tx_lines = []\n",
        "\n",
        "\tfor i in range(len(lines_img)):\n",
        "\t\tx_lines.append(end_wrd_dtct(lines, i, bin_img, mean_lttr_width, width))\n",
        "\n",
        "\tfor i in range(len(x_lines)):\n",
        "\t\tx_lines[i].append(width)\n",
        "\tfor i in range(len(lines)):\n",
        "\t\tletter_seg(lines_img, x_lines, i)\n",
        "\tcontours, hierarchy = cv2.findContours(bin_img, cv2.RETR_EXTERNAL, cv2.CHAIN_APPROX_SIMPLE)\n",
        "\tfor cnt in contours:\n",
        "\t\tif cv2.contourArea(cnt) > 20:\n",
        "\t\t\tx, y, w, h = cv2.boundingRect(cnt)\n",
        "\t\t\tcv2.rectangle(src_img, (x, y), (x + w, y + h), (0, 255, 0), 2)"
      ],
      "execution_count": null,
      "outputs": []
    },
    {
      "cell_type": "code",
      "metadata": {
        "colab": {
          "base_uri": "https://localhost:8080/"
        },
        "id": "h2ZxE_FNq0O_",
        "outputId": "22e581cd-5c9f-443a-ccd5-19be5c64dabf"
      },
      "source": [
        "image_segmentation('/content/Input.png')"
      ],
      "execution_count": null,
      "outputs": [
        {
          "output_type": "stream",
          "name": "stdout",
          "text": [
            "\n",
            "........Program Initiated.......\n",
            "\n",
            "\n",
            " Resizing Image........\n",
            "#---------Image Info:--------#\n",
            "\tHeight = 361 \n",
            "\tWidth = 1320\n",
            "Noise Removal\n",
            "Character Segmentation\n",
            "\n",
            "Lines : 1\n",
            "\n",
            "Average Width of Each Letter:-  67.3\n"
          ]
        }
      ]
    },
    {
      "cell_type": "code",
      "metadata": {
        "id": "rB9TiCwOq0lt"
      },
      "source": [
        "json_file = open('/content/model_final.json', 'r')\n",
        "loaded_model_json = json_file.read()\n",
        "json_file.close()\n",
        "loaded_model = model_from_json(loaded_model_json)\n",
        "loaded_model.load_weights(\"/content/model_final.h5\")"
      ],
      "execution_count": null,
      "outputs": []
    },
    {
      "cell_type": "code",
      "metadata": {
        "id": "zaJKHSweq5ln"
      },
      "source": [
        "def automatePred(folder):\n",
        "  finalArr = []\n",
        "  for filename in sorted(os.listdir(folder)):\n",
        "      img = cv2.imread(os.path.join(folder,filename))\n",
        "      img_copy = img.copy()\n",
        "      img = cv2.cvtColor(img, cv2.COLOR_BGR2RGB)\n",
        "      img = cv2.resize(img, (400,440))\n",
        "      img_copy = cv2.GaussianBlur(img_copy, (7,7), 0)\n",
        "      img_gray = cv2.cvtColor(img_copy, cv2.COLOR_BGR2GRAY)\n",
        "      _, img_thresh = cv2.threshold(img_gray, 100, 255, cv2.THRESH_BINARY_INV)\n",
        "      img_final = cv2.resize(img_thresh, (28,28))\n",
        "      img_final =np.reshape(img_final, (1,28,28,1))\n",
        "      img_pred = dict[np.argmax(loaded_model.predict(img_final))]\n",
        "      finalArr.append(img_pred)\n",
        "  return finalArr"
      ],
      "execution_count": null,
      "outputs": []
    },
    {
      "cell_type": "code",
      "metadata": {
        "colab": {
          "base_uri": "https://localhost:8080/"
        },
        "id": "tf78r79OrEHI",
        "outputId": "7963652e-1ae9-41fb-c58d-e0809773234a"
      },
      "source": [
        "arr = automatePred('/content/Output')\n",
        "arr"
      ],
      "execution_count": null,
      "outputs": [
        {
          "output_type": "execute_result",
          "data": {
            "text/plain": [
              "['x', '1', '=', '4', 'x', '+', '3', '=', '0']"
            ]
          },
          "metadata": {},
          "execution_count": 7
        }
      ]
    },
    {
      "cell_type": "code",
      "metadata": {
        "colab": {
          "base_uri": "https://localhost:8080/"
        },
        "id": "daLVhJnorHkY",
        "outputId": "2c030cc3-2b11-4fb9-9b8b-a18136b38b26"
      },
      "source": [
        "final = []\n",
        "if arr[0] == 'x':\n",
        "  final.append(1)\n",
        "if arr[0] == '-' and arr[1] == 'x':\n",
        "  final.append(-1)\n",
        "for i in range(len(arr)):\n",
        "  if arr[i].isdigit() and arr[i-1] != 'x':\n",
        "    if arr[i-1] == \"-\":\n",
        "      final.append(int(\"-\" + arr[i]))\n",
        "    else:\n",
        "      final.append(int(arr[i]))\n",
        "final"
      ],
      "execution_count": null,
      "outputs": [
        {
          "output_type": "execute_result",
          "data": {
            "text/plain": [
              "[1, 4, 3, 0]"
            ]
          },
          "metadata": {},
          "execution_count": 8
        }
      ]
    },
    {
      "cell_type": "code",
      "metadata": {
        "id": "C5v_4sILrLlV"
      },
      "source": [
        "a, b, c, d = final"
      ],
      "execution_count": null,
      "outputs": []
    },
    {
      "cell_type": "code",
      "metadata": {
        "id": "QiWUlh7DrPDe"
      },
      "source": [
        "c = c-d"
      ],
      "execution_count": null,
      "outputs": []
    },
    {
      "cell_type": "code",
      "metadata": {
        "colab": {
          "base_uri": "https://localhost:8080/"
        },
        "id": "R6FzUXEnrRGm",
        "outputId": "d60ed13f-0b4c-4630-c2a1-118f0a522fac"
      },
      "source": [
        "a, b, c"
      ],
      "execution_count": null,
      "outputs": [
        {
          "output_type": "execute_result",
          "data": {
            "text/plain": [
              "(1, 4, 3)"
            ]
          },
          "metadata": {},
          "execution_count": 11
        }
      ]
    },
    {
      "cell_type": "code",
      "metadata": {
        "id": "DtEmuTT1rTif"
      },
      "source": [
        "disc = (b**2) - (4*a*c)"
      ],
      "execution_count": null,
      "outputs": []
    },
    {
      "cell_type": "code",
      "metadata": {
        "id": "-l9WPx2yrZ_2"
      },
      "source": [
        "sol1 = (-b-cmath.sqrt(disc))/(2*a)\n",
        "sol2 = (-b+cmath.sqrt(disc))/(2*a)"
      ],
      "execution_count": null,
      "outputs": []
    },
    {
      "cell_type": "code",
      "metadata": {
        "colab": {
          "base_uri": "https://localhost:8080/"
        },
        "id": "FjsfLkaGrcOG",
        "outputId": "3ba683fc-9661-4835-f7cd-17a528e9b78b"
      },
      "source": [
        "sol1, sol2"
      ],
      "execution_count": null,
      "outputs": [
        {
          "output_type": "execute_result",
          "data": {
            "text/plain": [
              "((-3+0j), (-1+0j))"
            ]
          },
          "metadata": {},
          "execution_count": 14
        }
      ]
    }
  ]
}